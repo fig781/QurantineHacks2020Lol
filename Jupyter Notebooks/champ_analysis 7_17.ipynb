{
 "cells": [
  {
   "cell_type": "code",
   "execution_count": 93,
   "metadata": {},
   "outputs": [],
   "source": [
    "#Import required files.\n",
    "#from SQLtoDF import *\n",
    "#from championID import * \n",
    "import pandas as pd\n",
    "import mysql.connector\n",
    "import matplotlib.pyplot as plt\n",
    "\n",
    "#Connect to SQL database. \n",
    "mydb = mysql.connector.connect(\n",
    "user='dbmasteruser', \n",
    "password='#(KT.%KXF~?oa0((3C]B+c:D$_u|~%7%',\n",
    "host='ls-ab4099840472652cffcf8a93ff831350de0b9549.cxjoxjn3ihvz.us-west-2.rds.amazonaws.com',\n",
    "database='league',\n",
    "port='3306')\n",
    "\n",
    "mycursor = mydb.cursor()\n",
    "\n",
    "#SQL Table \n",
    "table_name = 'champions'\n",
    "\n",
    "#Convert table into dataframe.\n",
    "mycursor.execute('SELECT * FROM' + ' ' + table_name)\n",
    "names = mycursor.column_names\n",
    "table_rows = mycursor.fetchall()\n",
    "data = pd.DataFrame(table_rows)\n",
    "data.columns = [i for i in names]\n",
    "\n",
    "#Get list of champions from riot json file.\n",
    "champions = pd.read_json(r\"D:\\Data Science\\Hackathon\\champion.json\")\n",
    "\n",
    "#Get unique champ ID and associate name with ID.\n",
    "keys = []\n",
    "tags = []\n",
    "\n",
    "for ID in champions['data']:\n",
    "    keys.append(ID['key'])\n",
    "    tags.append(ID['tags'][0]) #get 1st tag instead of list. \n",
    "\n",
    "champions['champion_id'] = keys\n",
    "champions['champion_id'] = champions['champion_id'].astype(int)\n",
    "champions.drop(columns = ['type', 'format', 'version'], inplace = True)\n",
    "champions['tags'] = tags\n",
    "\n",
    "champions_data = champions.copy()\n",
    "champions_data.drop(columns = ['data'], inplace = True)\n",
    "champions_data = champions_data.reset_index()\n",
    "champions_data.rename(columns={'index' : 'champion'}, inplace = True)"
   ]
  },
  {
   "cell_type": "code",
   "execution_count": 94,
   "metadata": {},
   "outputs": [],
   "source": [
    "#Merge data to form complete dataset.\n",
    "complete_data = pd.merge(data,\n",
    "                         champions_data[['champion_id', 'champion', 'tags']],\n",
    "                         on='champion_id')"
   ]
  },
  {
   "cell_type": "code",
   "execution_count": 95,
   "metadata": {},
   "outputs": [
    {
     "data": {
      "text/html": [
       "<div>\n",
       "<style scoped>\n",
       "    .dataframe tbody tr th:only-of-type {\n",
       "        vertical-align: middle;\n",
       "    }\n",
       "\n",
       "    .dataframe tbody tr th {\n",
       "        vertical-align: top;\n",
       "    }\n",
       "\n",
       "    .dataframe thead th {\n",
       "        text-align: right;\n",
       "    }\n",
       "</style>\n",
       "<table border=\"1\" class=\"dataframe\">\n",
       "  <thead>\n",
       "    <tr style=\"text-align: right;\">\n",
       "      <th></th>\n",
       "      <th>game_id</th>\n",
       "      <th>team_id</th>\n",
       "      <th>damage_dealt</th>\n",
       "      <th>assists</th>\n",
       "      <th>kills</th>\n",
       "      <th>total_healing</th>\n",
       "      <th>total_minions_killed</th>\n",
       "      <th>win</th>\n",
       "      <th>first_blood_kill</th>\n",
       "      <th>first_dragon</th>\n",
       "      <th>first_tower_kill</th>\n",
       "      <th>vision_score</th>\n",
       "      <th>game_duration</th>\n",
       "      <th>champion</th>\n",
       "      <th>tags</th>\n",
       "    </tr>\n",
       "  </thead>\n",
       "  <tbody>\n",
       "    <tr>\n",
       "      <th>0</th>\n",
       "      <td>4247263043</td>\n",
       "      <td>100</td>\n",
       "      <td>71369</td>\n",
       "      <td>3</td>\n",
       "      <td>3</td>\n",
       "      <td>4006</td>\n",
       "      <td>133</td>\n",
       "      <td>0</td>\n",
       "      <td>1</td>\n",
       "      <td>0</td>\n",
       "      <td>0</td>\n",
       "      <td>14</td>\n",
       "      <td>1323</td>\n",
       "      <td>Leblanc</td>\n",
       "      <td>Assassin</td>\n",
       "    </tr>\n",
       "    <tr>\n",
       "      <th>1</th>\n",
       "      <td>4243963257</td>\n",
       "      <td>127</td>\n",
       "      <td>58161</td>\n",
       "      <td>3</td>\n",
       "      <td>5</td>\n",
       "      <td>2598</td>\n",
       "      <td>103</td>\n",
       "      <td>1</td>\n",
       "      <td>1</td>\n",
       "      <td>1</td>\n",
       "      <td>0</td>\n",
       "      <td>12</td>\n",
       "      <td>932</td>\n",
       "      <td>Leblanc</td>\n",
       "      <td>Assassin</td>\n",
       "    </tr>\n",
       "    <tr>\n",
       "      <th>2</th>\n",
       "      <td>4228952659</td>\n",
       "      <td>127</td>\n",
       "      <td>52591</td>\n",
       "      <td>0</td>\n",
       "      <td>2</td>\n",
       "      <td>622</td>\n",
       "      <td>151</td>\n",
       "      <td>0</td>\n",
       "      <td>0</td>\n",
       "      <td>0</td>\n",
       "      <td>0</td>\n",
       "      <td>7</td>\n",
       "      <td>1201</td>\n",
       "      <td>Leblanc</td>\n",
       "      <td>Assassin</td>\n",
       "    </tr>\n",
       "    <tr>\n",
       "      <th>3</th>\n",
       "      <td>4217069365</td>\n",
       "      <td>100</td>\n",
       "      <td>67476</td>\n",
       "      <td>4</td>\n",
       "      <td>5</td>\n",
       "      <td>5031</td>\n",
       "      <td>143</td>\n",
       "      <td>1</td>\n",
       "      <td>0</td>\n",
       "      <td>1</td>\n",
       "      <td>0</td>\n",
       "      <td>24</td>\n",
       "      <td>1221</td>\n",
       "      <td>Leblanc</td>\n",
       "      <td>Assassin</td>\n",
       "    </tr>\n",
       "    <tr>\n",
       "      <th>4</th>\n",
       "      <td>4205778093</td>\n",
       "      <td>100</td>\n",
       "      <td>64272</td>\n",
       "      <td>5</td>\n",
       "      <td>11</td>\n",
       "      <td>4182</td>\n",
       "      <td>108</td>\n",
       "      <td>1</td>\n",
       "      <td>0</td>\n",
       "      <td>1</td>\n",
       "      <td>0</td>\n",
       "      <td>13</td>\n",
       "      <td>984</td>\n",
       "      <td>Leblanc</td>\n",
       "      <td>Assassin</td>\n",
       "    </tr>\n",
       "  </tbody>\n",
       "</table>\n",
       "</div>"
      ],
      "text/plain": [
       "      game_id  team_id  damage_dealt  assists  kills  total_healing  \\\n",
       "0  4247263043      100         71369        3      3           4006   \n",
       "1  4243963257      127         58161        3      5           2598   \n",
       "2  4228952659      127         52591        0      2            622   \n",
       "3  4217069365      100         67476        4      5           5031   \n",
       "4  4205778093      100         64272        5     11           4182   \n",
       "\n",
       "   total_minions_killed  win  first_blood_kill  first_dragon  \\\n",
       "0                   133    0                 1             0   \n",
       "1                   103    1                 1             1   \n",
       "2                   151    0                 0             0   \n",
       "3                   143    1                 0             1   \n",
       "4                   108    1                 0             1   \n",
       "\n",
       "   first_tower_kill  vision_score  game_duration champion      tags  \n",
       "0                 0            14           1323  Leblanc  Assassin  \n",
       "1                 0            12            932  Leblanc  Assassin  \n",
       "2                 0             7           1201  Leblanc  Assassin  \n",
       "3                 0            24           1221  Leblanc  Assassin  \n",
       "4                 0            13            984  Leblanc  Assassin  "
      ]
     },
     "execution_count": 95,
     "metadata": {},
     "output_type": "execute_result"
    }
   ],
   "source": [
    "#Get rid of redundant columns\n",
    "complete_data.drop(columns=['id', 'champion_id'], inplace = True)\n",
    "complete_data.head()"
   ]
  },
  {
   "cell_type": "code",
   "execution_count": 96,
   "metadata": {},
   "outputs": [],
   "source": [
    "#Gather unique champ names.\n",
    "champ_names = []\n",
    "for name in complete_data['champion']:\n",
    "    if name not in champ_names:\n",
    "        champ_names.append(name)"
   ]
  },
  {
   "cell_type": "code",
   "execution_count": 97,
   "metadata": {},
   "outputs": [],
   "source": [
    "#Reference to games played per champ    \n",
    "games_played_per_champ = complete_data['champion'].value_counts()  "
   ]
  },
  {
   "cell_type": "code",
   "execution_count": 98,
   "metadata": {},
   "outputs": [
    {
     "name": "stderr",
     "output_type": "stream",
     "text": [
      "C:\\Users\\19712\\anaconda3\\lib\\site-packages\\pandas\\core\\indexing.py:670: SettingWithCopyWarning: \n",
      "A value is trying to be set on a copy of a slice from a DataFrame\n",
      "\n",
      "See the caveats in the documentation: https://pandas.pydata.org/pandas-docs/stable/user_guide/indexing.html#returning-a-view-versus-a-copy\n",
      "  self._setitem_with_indexer(indexer, value)\n"
     ]
    }
   ],
   "source": [
    "#Convert to red & blue teams. \n",
    "complete_data['team_id'].loc[complete_data['team_id'] == 100] = 'blue'\n",
    "complete_data['team_id'].loc[complete_data['team_id'] == 127] = 'red'"
   ]
  },
  {
   "cell_type": "code",
   "execution_count": 99,
   "metadata": {},
   "outputs": [
    {
     "data": {
      "text/html": [
       "<div>\n",
       "<style scoped>\n",
       "    .dataframe tbody tr th:only-of-type {\n",
       "        vertical-align: middle;\n",
       "    }\n",
       "\n",
       "    .dataframe tbody tr th {\n",
       "        vertical-align: top;\n",
       "    }\n",
       "\n",
       "    .dataframe thead th {\n",
       "        text-align: right;\n",
       "    }\n",
       "</style>\n",
       "<table border=\"1\" class=\"dataframe\">\n",
       "  <thead>\n",
       "    <tr style=\"text-align: right;\">\n",
       "      <th></th>\n",
       "      <th>game_id</th>\n",
       "      <th>damage_dealt</th>\n",
       "      <th>assists</th>\n",
       "      <th>kills</th>\n",
       "      <th>total_healing</th>\n",
       "      <th>total_minions_killed</th>\n",
       "      <th>win</th>\n",
       "      <th>first_blood_kill</th>\n",
       "      <th>first_dragon</th>\n",
       "      <th>first_tower_kill</th>\n",
       "      <th>vision_score</th>\n",
       "      <th>game_duration</th>\n",
       "      <th>champion</th>\n",
       "    </tr>\n",
       "  </thead>\n",
       "  <tbody>\n",
       "    <tr>\n",
       "      <th>0</th>\n",
       "      <td>4.180526e+09</td>\n",
       "      <td>91251.873469</td>\n",
       "      <td>6.490476</td>\n",
       "      <td>6.239116</td>\n",
       "      <td>4311.942857</td>\n",
       "      <td>147.349660</td>\n",
       "      <td>0.495238</td>\n",
       "      <td>0.103061</td>\n",
       "      <td>0.499320</td>\n",
       "      <td>0.017687</td>\n",
       "      <td>21.046259</td>\n",
       "      <td>1508.078231</td>\n",
       "      <td>Leblanc</td>\n",
       "    </tr>\n",
       "    <tr>\n",
       "      <th>1</th>\n",
       "      <td>4.192994e+09</td>\n",
       "      <td>17667.294913</td>\n",
       "      <td>13.403021</td>\n",
       "      <td>1.729730</td>\n",
       "      <td>12326.104531</td>\n",
       "      <td>8.351749</td>\n",
       "      <td>0.445548</td>\n",
       "      <td>0.028617</td>\n",
       "      <td>0.378378</td>\n",
       "      <td>0.013116</td>\n",
       "      <td>35.434022</td>\n",
       "      <td>1452.320350</td>\n",
       "      <td>Yuumi</td>\n",
       "    </tr>\n",
       "    <tr>\n",
       "      <th>2</th>\n",
       "      <td>4.167861e+09</td>\n",
       "      <td>108895.727538</td>\n",
       "      <td>5.255840</td>\n",
       "      <td>4.375337</td>\n",
       "      <td>9415.202606</td>\n",
       "      <td>151.642408</td>\n",
       "      <td>0.477089</td>\n",
       "      <td>0.070081</td>\n",
       "      <td>0.478886</td>\n",
       "      <td>0.044924</td>\n",
       "      <td>18.355795</td>\n",
       "      <td>1488.459569</td>\n",
       "      <td>Aatrox</td>\n",
       "    </tr>\n",
       "    <tr>\n",
       "      <th>3</th>\n",
       "      <td>4.193178e+09</td>\n",
       "      <td>103748.440703</td>\n",
       "      <td>6.337299</td>\n",
       "      <td>5.703880</td>\n",
       "      <td>9932.759151</td>\n",
       "      <td>112.271413</td>\n",
       "      <td>0.474012</td>\n",
       "      <td>0.096633</td>\n",
       "      <td>0.436859</td>\n",
       "      <td>0.035871</td>\n",
       "      <td>19.415264</td>\n",
       "      <td>1489.080527</td>\n",
       "      <td>Sylas</td>\n",
       "    </tr>\n",
       "    <tr>\n",
       "      <th>4</th>\n",
       "      <td>4.193187e+09</td>\n",
       "      <td>120726.044556</td>\n",
       "      <td>7.329435</td>\n",
       "      <td>5.750209</td>\n",
       "      <td>1853.692565</td>\n",
       "      <td>178.469507</td>\n",
       "      <td>0.510164</td>\n",
       "      <td>0.087719</td>\n",
       "      <td>0.484545</td>\n",
       "      <td>0.059872</td>\n",
       "      <td>23.468950</td>\n",
       "      <td>1512.335561</td>\n",
       "      <td>Varus</td>\n",
       "    </tr>\n",
       "  </tbody>\n",
       "</table>\n",
       "</div>"
      ],
      "text/plain": [
       "        game_id   damage_dealt    assists     kills  total_healing  \\\n",
       "0  4.180526e+09   91251.873469   6.490476  6.239116    4311.942857   \n",
       "1  4.192994e+09   17667.294913  13.403021  1.729730   12326.104531   \n",
       "2  4.167861e+09  108895.727538   5.255840  4.375337    9415.202606   \n",
       "3  4.193178e+09  103748.440703   6.337299  5.703880    9932.759151   \n",
       "4  4.193187e+09  120726.044556   7.329435  5.750209    1853.692565   \n",
       "\n",
       "   total_minions_killed       win  first_blood_kill  first_dragon  \\\n",
       "0            147.349660  0.495238          0.103061      0.499320   \n",
       "1              8.351749  0.445548          0.028617      0.378378   \n",
       "2            151.642408  0.477089          0.070081      0.478886   \n",
       "3            112.271413  0.474012          0.096633      0.436859   \n",
       "4            178.469507  0.510164          0.087719      0.484545   \n",
       "\n",
       "   first_tower_kill  vision_score  game_duration champion  \n",
       "0          0.017687     21.046259    1508.078231  Leblanc  \n",
       "1          0.013116     35.434022    1452.320350    Yuumi  \n",
       "2          0.044924     18.355795    1488.459569   Aatrox  \n",
       "3          0.035871     19.415264    1489.080527    Sylas  \n",
       "4          0.059872     23.468950    1512.335561    Varus  "
      ]
     },
     "execution_count": 99,
     "metadata": {},
     "output_type": "execute_result"
    }
   ],
   "source": [
    "#Averages per champ.\n",
    "averages = []\n",
    "for champ in champ_names:\n",
    "    averages.append(complete_data[complete_data['champion'] == champ].mean())\n",
    "    \n",
    "champ_avg = pd.DataFrame(averages)\n",
    "champ_avg['champion'] = pd.DataFrame(champ_names)\n",
    "champ_avg.head()"
   ]
  },
  {
   "cell_type": "code",
   "execution_count": 100,
   "metadata": {
    "scrolled": false
   },
   "outputs": [
    {
     "data": {
      "text/plain": [
       "<matplotlib.axes._subplots.AxesSubplot at 0x24588501c08>"
      ]
     },
     "execution_count": 100,
     "metadata": {},
     "output_type": "execute_result"
    },
    {
     "data": {
      "image/png": "[encoded data removed]",
      "text/plain": [
       "<Figure size 1080x2160 with 1 Axes>"
      ]
     },
     "metadata": {
      "needs_background": "light"
     },
     "output_type": "display_data"
    }
   ],
   "source": [
    "#Champ picks\n",
    "import seaborn as sns\n",
    "fig, ax1 = plt.subplots(ncols=1, sharey=False, figsize = (15,30))\n",
    "plt.xticks(rotation=90)\n",
    "sortedPicks = sorted(complete_data['champion'])\n",
    "sns.countplot(y = sortedPicks, data = complete_data)"
   ]
  },
  {
   "cell_type": "markdown",
   "metadata": {},
   "source": [
    "In Korean Challenger games the most played champion is Lee Sin which is not entirely surprising given the amount of snowball potential he can bring when played in the jungle. From this plot, we can determine the most and least popular champions per role.\n",
    "\n",
    "Top champions <br>\n",
    "Jungle: Lee Sin <br>\n",
    "Top: Sett <br>\n",
    "Mid: Ekko <br>\n",
    "Bot: Miss Fortune <br>\n",
    "Support: Thresh <br>\n",
    "<br>\n",
    "Bottom champions: <br>\n",
    "Jungle: Udyr <br> \n",
    "Top: Yorick <br> \n",
    "Mid: Annie <br> \n",
    "Bot: KogMaw <br> \n",
    "Support: Zyra <br>"
   ]
  },
  {
   "cell_type": "markdown",
   "metadata": {},
   "source": [
    "# Now let's determine these champions win rates"
   ]
  },
  {
   "cell_type": "code",
   "execution_count": 101,
   "metadata": {},
   "outputs": [
    {
     "data": {
      "text/html": [
       "<div>\n",
       "<style scoped>\n",
       "    .dataframe tbody tr th:only-of-type {\n",
       "        vertical-align: middle;\n",
       "    }\n",
       "\n",
       "    .dataframe tbody tr th {\n",
       "        vertical-align: top;\n",
       "    }\n",
       "\n",
       "    .dataframe thead th {\n",
       "        text-align: right;\n",
       "    }\n",
       "</style>\n",
       "<table border=\"1\" class=\"dataframe\">\n",
       "  <thead>\n",
       "    <tr style=\"text-align: right;\">\n",
       "      <th></th>\n",
       "      <th>champion</th>\n",
       "      <th>win rate</th>\n",
       "    </tr>\n",
       "  </thead>\n",
       "  <tbody>\n",
       "    <tr>\n",
       "      <th>0</th>\n",
       "      <td>LeeSin</td>\n",
       "      <td>0.495608</td>\n",
       "    </tr>\n",
       "    <tr>\n",
       "      <th>1</th>\n",
       "      <td>Sett</td>\n",
       "      <td>0.505501</td>\n",
       "    </tr>\n",
       "    <tr>\n",
       "      <th>2</th>\n",
       "      <td>Ekko</td>\n",
       "      <td>0.500282</td>\n",
       "    </tr>\n",
       "    <tr>\n",
       "      <th>3</th>\n",
       "      <td>MissFortune</td>\n",
       "      <td>0.514939</td>\n",
       "    </tr>\n",
       "    <tr>\n",
       "      <th>4</th>\n",
       "      <td>Thresh</td>\n",
       "      <td>0.511822</td>\n",
       "    </tr>\n",
       "  </tbody>\n",
       "</table>\n",
       "</div>"
      ],
      "text/plain": [
       "      champion  win rate\n",
       "0       LeeSin  0.495608\n",
       "1         Sett  0.505501\n",
       "2         Ekko  0.500282\n",
       "3  MissFortune  0.514939\n",
       "4       Thresh  0.511822"
      ]
     },
     "execution_count": 101,
     "metadata": {},
     "output_type": "execute_result"
    }
   ],
   "source": [
    "#Determining most picked champion win rates.\n",
    "topLabels = ['LeeSin', 'Sett', 'Ekko', 'MissFortune', 'Thresh']\n",
    "\n",
    "topLabels_wr = []\n",
    "for label in topLabels:\n",
    "    topLabels_wr.append(champ_avg[champ_avg['champion'] == label]['win'])\n",
    "\n",
    "slist = [] \n",
    "for i in topLabels_wr: #We have a list of series. Need to get singular value (win rate) from each series in the list.\n",
    "    slist.extend(i)\n",
    "    \n",
    "topLabels_df = pd.DataFrame({'champion': topLabels,\n",
    "                            'win rate': slist})\n",
    "\n",
    "topLabels_df"
   ]
  },
  {
   "cell_type": "code",
   "execution_count": 103,
   "metadata": {},
   "outputs": [
    {
     "data": {
      "text/html": [
       "<div>\n",
       "<style scoped>\n",
       "    .dataframe tbody tr th:only-of-type {\n",
       "        vertical-align: middle;\n",
       "    }\n",
       "\n",
       "    .dataframe tbody tr th {\n",
       "        vertical-align: top;\n",
       "    }\n",
       "\n",
       "    .dataframe thead th {\n",
       "        text-align: right;\n",
       "    }\n",
       "</style>\n",
       "<table border=\"1\" class=\"dataframe\">\n",
       "  <thead>\n",
       "    <tr style=\"text-align: right;\">\n",
       "      <th></th>\n",
       "      <th>champion</th>\n",
       "      <th>win rate</th>\n",
       "    </tr>\n",
       "  </thead>\n",
       "  <tbody>\n",
       "    <tr>\n",
       "      <th>0</th>\n",
       "      <td>Udyr</td>\n",
       "      <td>0.493671</td>\n",
       "    </tr>\n",
       "    <tr>\n",
       "      <th>1</th>\n",
       "      <td>Yorick</td>\n",
       "      <td>0.488372</td>\n",
       "    </tr>\n",
       "    <tr>\n",
       "      <th>2</th>\n",
       "      <td>Annie</td>\n",
       "      <td>0.440000</td>\n",
       "    </tr>\n",
       "    <tr>\n",
       "      <th>3</th>\n",
       "      <td>KogMaw</td>\n",
       "      <td>0.500000</td>\n",
       "    </tr>\n",
       "    <tr>\n",
       "      <th>4</th>\n",
       "      <td>Zyra</td>\n",
       "      <td>0.457286</td>\n",
       "    </tr>\n",
       "  </tbody>\n",
       "</table>\n",
       "</div>"
      ],
      "text/plain": [
       "  champion  win rate\n",
       "0     Udyr  0.493671\n",
       "1   Yorick  0.488372\n",
       "2    Annie  0.440000\n",
       "3   KogMaw  0.500000\n",
       "4     Zyra  0.457286"
      ]
     },
     "execution_count": 103,
     "metadata": {},
     "output_type": "execute_result"
    }
   ],
   "source": [
    "#Determining least picked champion win rates. \n",
    "botLabels = ['Udyr', 'Yorick', 'Annie', 'KogMaw', 'Zyra']\n",
    "\n",
    "botLabels_wr = []\n",
    "for label in botLabels:\n",
    "    botLabels_wr.append(champ_avg[champ_avg['champion'] == label]['win'])\n",
    "\n",
    "slist = [] \n",
    "for i in botLabels_wr: #We have a list of series. Need to get singular value (win rate) from each series in the list.\n",
    "    slist.extend(i)\n",
    "\n",
    "botLabels_df = pd.DataFrame({'champion': botLabels,\n",
    "                            'win rate': slist})    \n",
    "\n",
    "botLabels_df"
   ]
  },
  {
   "cell_type": "code",
   "execution_count": 120,
   "metadata": {},
   "outputs": [
    {
     "data": {
      "image/png": "[encoded data removed]",
      "text/plain": [
       "<Figure size 360x360 with 1 Axes>"
      ]
     },
     "metadata": {
      "needs_background": "light"
     },
     "output_type": "display_data"
    },
    {
     "data": {
      "image/png": "[encoded data removed]",
      "text/plain": [
       "<Figure size 360x360 with 1 Axes>"
      ]
     },
     "metadata": {
      "needs_background": "light"
     },
     "output_type": "display_data"
    }
   ],
   "source": [
    "#Create a table.\n",
    "#Plot table. \n",
    "plots = [topLabels_df, botLabels_df]\n",
    "\n",
    "for plot in plots:\n",
    "    plot['percent'] = plot['win rate'].mul(100)\n",
    "    fig = sns.catplot(x='champion', y='percent', kind = 'bar', data = plot,alpha = 0.5)\n",
    "    fig.ax.set_ylim(0,100)\n",
    "    for p in fig.ax.patches:\n",
    "        txt = str(p.get_height().round(2)) + '%'\n",
    "        txt_x = p.get_x()\n",
    "        txt_y = p.get_height()\n",
    "        fig.ax.text(txt_x, txt_y, txt)\n",
    "\n",
    "#Need to create subplots. "
   ]
  },
  {
   "cell_type": "code",
   "execution_count": 116,
   "metadata": {},
   "outputs": [
    {
     "data": {
      "text/plain": [
       "Fighter     69186\n",
       "Marksman    56700\n",
       "Mage        40268\n",
       "Support     28741\n",
       "Assassin    26335\n",
       "Name: tags, dtype: int64"
      ]
     },
     "execution_count": 116,
     "metadata": {},
     "output_type": "execute_result"
    }
   ],
   "source": [
    "totalTags = complete_data['tags'].value_counts()\n",
    "totalTags.head()"
   ]
  },
  {
   "cell_type": "code",
   "execution_count": 117,
   "metadata": {
    "scrolled": false
   },
   "outputs": [
    {
     "data": {
      "text/plain": [
       "<matplotlib.axes._subplots.AxesSubplot at 0x24584cddb48>"
      ]
     },
     "execution_count": 117,
     "metadata": {},
     "output_type": "execute_result"
    },
    {
     "data": {
      "image/png": "[encoded data removed]",
      "text/plain": [
       "<Figure size 432x288 with 1 Axes>"
      ]
     },
     "metadata": {
      "needs_background": "light"
     },
     "output_type": "display_data"
    }
   ],
   "source": [
    "#Keep in mind this is primary tag in list. Some champs have two tags. However for the purpose of this analysis we keep it simpler. \n",
    "my_colors = ['blue', 'green', 'cyan', 'gray', 'red', 'orange']\n",
    "totalTags.plot(kind='bar', x = 'tags', y = 'count', color = my_colors, alpha=0.2)"
   ]
  },
  {
   "cell_type": "markdown",
   "metadata": {},
   "source": [
    "It looks like the most popular played champions in challenger are classified as a fighter, while tanks have the least amount of support. This could be due to the fact that the most popular champions have a high-skill ceiling as the players pertaining to this dataset are in the top 0.015% of all players (representing the very best). Hence, we see tanks played the least, as often these champions put out the least amount of damage. Another important aspect to note is how little assasin style champions are playedd. This could be due to the fact that the skill level is so high that the opposing players can counter these specific champions, while in lower-elo these champions have room to manuever.  "
   ]
  },
  {
   "cell_type": "code",
   "execution_count": null,
   "metadata": {},
   "outputs": [],
   "source": [
    "#Set up to determine champion win percentage based on firsts.\n",
    "wr = complete_data[['champion', 'win', 'first_blood_kill', 'first_dragon', 'first_tower_kill']]\n",
    "wr.set_index(['champion'], inplace=True)\n",
    "fb = wr[wr['first_blood_kill'] == 1]['win']"
   ]
  },
  {
   "cell_type": "code",
   "execution_count": null,
   "metadata": {
    "scrolled": true
   },
   "outputs": [],
   "source": [
    "fb_wr = []\n",
    "ft_wr = []\n",
    "fd_wr = []\n",
    "for champ in champ_names:\n",
    "    fb_wr.append(wr[wr['first_blood_kill'] == 1]['win'].loc[champ].sum() / len(wr[wr['first_blood_kill'] == 1]['win'].loc[champ]))\n",
    "    ft_wr.append(wr[wr['first_tower_kill'] == 1]['win'].loc[champ].sum() / len(wr[wr['first_tower_kill'] == 1]['win'].loc[champ]))\n",
    "    fd_wr.append(wr[wr['first_dragon'] == 1]['win'].loc[champ].sum() / len(wr[wr['first_dragon'] == 1]['win'].loc[champ]))\n",
    "\n",
    "champ_wr_firsts = pd.DataFrame({\n",
    "    'champion': champ_names,\n",
    "    'first_blood_win': fb_wr,\n",
    "    'first_tower_win': ft_wr,\n",
    "    'first_dragon_win': fd_wr\n",
    "    })\n",
    "\n",
    "champ_wr_firsts.head()"
   ]
  },
  {
   "cell_type": "code",
   "execution_count": null,
   "metadata": {},
   "outputs": [],
   "source": [
    "#Merge data \n",
    "champions_processed_data = pd.merge(champ_avg,\n",
    "                         champ_wr_firsts[['champion', 'first_blood_win', 'first_tower_win', 'first_dragon_win']],\n",
    "                         on='champion')\n",
    "champions_processed_data.drop(columns = ['game_id'], inplace=True)\n",
    "\n",
    "#Reformat table\n",
    "order = ['champion',\n",
    "         'win',\n",
    "         'total_minions_killed',\n",
    "         'kills',\n",
    "         'assists',\n",
    "         'damage_dealt',\n",
    "         'total_healing',\n",
    "         'first_blood_kill',\n",
    "         'first_tower_kill',\n",
    "         'first_dragon',\n",
    "         'first_blood_win',\n",
    "         'first_tower_win',\n",
    "         'first_dragon_win',\n",
    "         'vision_score',\n",
    "         'game_duration']\n",
    "\n",
    "#Get cleaned dataset of champ specific statistics.\n",
    "champions_processed_data = pd.DataFrame(champions_processed_data, columns = order)"
   ]
  },
  {
   "cell_type": "code",
   "execution_count": null,
   "metadata": {},
   "outputs": [],
   "source": []
  },
  {
   "cell_type": "code",
   "execution_count": null,
   "metadata": {},
   "outputs": [],
   "source": []
  },
  {
   "cell_type": "code",
   "execution_count": null,
   "metadata": {},
   "outputs": [],
   "source": []
  }
 ],
 "metadata": {
  "kernelspec": {
   "display_name": "Python 3",
   "language": "python",
   "name": "python3"
  },
  "language_info": {
   "codemirror_mode": {
    "name": "ipython",
    "version": 3
   },
   "file_extension": ".py",
   "mimetype": "text/x-python",
   "name": "python",
   "nbconvert_exporter": "python",
   "pygments_lexer": "ipython3",
   "version": "3.7.6"
  }
 },
 "nbformat": 4,
 "nbformat_minor": 4
}
