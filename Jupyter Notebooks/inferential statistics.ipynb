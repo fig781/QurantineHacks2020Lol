{
 "cells": [
  {
   "cell_type": "code",
   "execution_count": 1,
   "metadata": {},
   "outputs": [],
   "source": [
    "import pandas as pd\n",
    "import numpy as np\n",
    "import requests"
   ]
  },
  {
   "cell_type": "code",
   "execution_count": 2,
   "metadata": {},
   "outputs": [],
   "source": [
    "#retrieve the data \n",
    "path = r\"D:\\Data Science\\Hackathon\\Challenger_Ranked_Games.csv\"\n",
    "games = pd.read_csv(path)"
   ]
  },
  {
   "cell_type": "code",
   "execution_count": 3,
   "metadata": {},
   "outputs": [],
   "source": [
    "#Restrict game duration [15, 60] inclusively in minutes. \n",
    "games = games[games['gameDuraton'] >= 900]\n",
    "games = games[games['gameDuraton'] <= 3600]"
   ]
  },
  {
   "cell_type": "code",
   "execution_count": 4,
   "metadata": {},
   "outputs": [],
   "source": [
    "blue_wins = games['blueWins']\n",
    "red_wins = games['redWins']\n",
    "total_wins = pd.DataFrame(games, columns = ['blueWins', 'redWins'])"
   ]
  },
  {
   "cell_type": "code",
   "execution_count": 6,
   "metadata": {},
   "outputs": [
    {
     "data": {
      "text/plain": [
       "(50.13559721730928, 49.86440278269072)"
      ]
     },
     "execution_count": 6,
     "metadata": {},
     "output_type": "execute_result"
    }
   ],
   "source": [
    "#percentage of wins that blue and red win (challenger games)\n",
    "percent_blue = blue_wins.sum() / len(total_wins) *100\n",
    "percent_red = red_wins.sum() / len(total_wins) * 100\n",
    "percent_blue, percent_red"
   ]
  },
  {
   "cell_type": "code",
   "execution_count": 9,
   "metadata": {},
   "outputs": [
    {
     "data": {
      "text/plain": [
       "(50.520771921550136, 49.479228078449864)"
      ]
     },
     "execution_count": 9,
     "metadata": {},
     "output_type": "execute_result"
    }
   ],
   "source": [
    "#First blood win ratio.\n",
    "blue_fb = games['blueFirstBlood']\n",
    "red_fb = games['redFirstBlood']\n",
    "\n",
    "blue_fb.sum() / len(blue_fb) * 100 , red_fb.sum() / len(red_fb) * 100 \n"
   ]
  },
  {
   "cell_type": "code",
   "execution_count": 11,
   "metadata": {},
   "outputs": [
    {
     "data": {
      "text/plain": [
       "(2160685, 2154303)"
      ]
     },
     "execution_count": 11,
     "metadata": {},
     "output_type": "execute_result"
    }
   ],
   "source": [
    "blue_vision_score = games['blueWardPlaced'] + games['blueWardkills']\n",
    "red_vision_score = games['redWardPlaced'] + games['redWardkills']\n",
    "blue_vision_score.sum(), red_vision_score.sum()"
   ]
  },
  {
   "cell_type": "code",
   "execution_count": 12,
   "metadata": {},
   "outputs": [
    {
     "data": {
      "text/plain": [
       "84.92257202373933"
      ]
     },
     "execution_count": 12,
     "metadata": {},
     "output_type": "execute_result"
    }
   ],
   "source": [
    "blue_vision_score.sum() / len(blue_vision_score)"
   ]
  },
  {
   "cell_type": "code",
   "execution_count": 14,
   "metadata": {},
   "outputs": [
    {
     "data": {
      "text/plain": [
       "84.67173682348779"
      ]
     },
     "execution_count": 14,
     "metadata": {},
     "output_type": "execute_result"
    }
   ],
   "source": [
    "red_vision_score.sum() / len(red_vision_score)"
   ]
  },
  {
   "cell_type": "code",
   "execution_count": 21,
   "metadata": {},
   "outputs": [
    {
     "data": {
      "text/plain": [
       "1.0076826591407966"
      ]
     },
     "execution_count": 21,
     "metadata": {},
     "output_type": "execute_result"
    }
   ],
   "source": [
    "#First blood win ratio.\n",
    "blue_fb = games['blueFirstBlood'].sum()\n",
    "red_fb = games['redFirstBlood'].sum()\n",
    "\n",
    "#Try to figure out win rate by FB ***\n",
    "blue_fb_wr = blue_fb / blue_wins.sum()\n",
    "blue_fb_wr"
   ]
  },
  {
   "cell_type": "code",
   "execution_count": 25,
   "metadata": {},
   "outputs": [
    {
     "data": {
      "text/plain": [
       "0.5991131165395985"
      ]
     },
     "execution_count": 25,
     "metadata": {},
     "output_type": "execute_result"
    }
   ],
   "source": [
    "wins_blue_fb = games[games['blueFirstBlood'] == 1]['blueWins']\n",
    "fb_blue_wr = wins_blue_fb.sum() / len(wins_blue_fb)\n",
    "fb_blue_wr"
   ]
  },
  {
   "cell_type": "code",
   "execution_count": 26,
   "metadata": {},
   "outputs": [
    {
     "data": {
      "text/plain": [
       "0.5984589721185162"
      ]
     },
     "execution_count": 26,
     "metadata": {},
     "output_type": "execute_result"
    }
   ],
   "source": [
    "wins_red_fb = games[games['redFirstBlood'] == 1]['redWins']\n",
    "fb_red_wr = wins_red_fb.sum() / len(wins_red_fb)\n",
    "fb_red_wr"
   ]
  },
  {
   "cell_type": "code",
   "execution_count": 27,
   "metadata": {},
   "outputs": [
    {
     "data": {
      "text/plain": [
       "0.7038319823139277"
      ]
     },
     "execution_count": 27,
     "metadata": {},
     "output_type": "execute_result"
    }
   ],
   "source": [
    "#first tower win rate for blue\n",
    "wins_blue_ft = games[games['blueFirstTower'] == 1]['blueWins']\n",
    "ft_blue_wr = wins_blue_ft.sum() / len(wins_blue_ft)\n",
    "ft_blue_wr"
   ]
  },
  {
   "cell_type": "code",
   "execution_count": 28,
   "metadata": {},
   "outputs": [
    {
     "data": {
      "text/plain": [
       "0.7302631578947368"
      ]
     },
     "execution_count": 28,
     "metadata": {},
     "output_type": "execute_result"
    }
   ],
   "source": [
    "#first tower win rate for red\n",
    "wins_red_ft = games[games['redFirstTower'] == 1]['redWins']\n",
    "ft_red_wr = wins_red_ft.sum() / len(wins_red_ft)\n",
    "ft_red_wr"
   ]
  },
  {
   "cell_type": "code",
   "execution_count": 29,
   "metadata": {},
   "outputs": [
    {
     "data": {
      "text/plain": [
       "0.6570570006573387"
      ]
     },
     "execution_count": 29,
     "metadata": {},
     "output_type": "execute_result"
    }
   ],
   "source": [
    "#first dragon win rate for blue\n",
    "wins_blue_fd = games[games['blueFirstDragon'] == 1]['blueWins']\n",
    "fd_blue_wr = wins_blue_fd.sum() / len(wins_blue_fd)\n",
    "fd_blue_wr"
   ]
  },
  {
   "cell_type": "code",
   "execution_count": 30,
   "metadata": {},
   "outputs": [
    {
     "data": {
      "text/plain": [
       "0.6278209676201978"
      ]
     },
     "execution_count": 30,
     "metadata": {},
     "output_type": "execute_result"
    }
   ],
   "source": [
    "#first dragon win rate for red\n",
    "wins_red_fd = games[games['redFirstDragon'] == 1]['redWins']\n",
    "fd_red_wr = wins_red_fd.sum() / len(wins_red_fd)\n",
    "fd_red_wr"
   ]
  },
  {
   "cell_type": "code",
   "execution_count": 31,
   "metadata": {},
   "outputs": [],
   "source": [
    "#Create boolean array of which team had the most minion kills per match\n",
    "minions_killed = pd.DataFrame(games, columns = ['blueTotalMinionKills', 'redTotalMinionKills'])\n",
    "for idx, series in minions_killed.iterrows():\n",
    "    if series['blueTotalMinionKills'] > series['redTotalMinionKills']:\n",
    "        series.replace(series['blueTotalMinionKills'], value = 1, inplace=True)\n",
    "        series.replace(series['redTotalMinionKills'], value = 0, inplace=True)\n",
    "    else:\n",
    "        series.replace(series['blueTotalMinionKills'], value = 0, inplace=True)\n",
    "        series.replace(series['redTotalMinionKills'], value = 1, inplace=True)"
   ]
  },
  {
   "cell_type": "code",
   "execution_count": 33,
   "metadata": {},
   "outputs": [
    {
     "data": {
      "text/plain": [
       "11750"
      ]
     },
     "execution_count": 33,
     "metadata": {},
     "output_type": "execute_result"
    }
   ],
   "source": [
    "minions_killed['blueTotalMinionKills'].sum()"
   ]
  },
  {
   "cell_type": "code",
   "execution_count": 34,
   "metadata": {},
   "outputs": [
    {
     "data": {
      "text/plain": [
       "13874"
      ]
     },
     "execution_count": 34,
     "metadata": {},
     "output_type": "execute_result"
    }
   ],
   "source": [
    "minions_killed['redTotalMinionKills'].sum()"
   ]
  },
  {
   "cell_type": "code",
   "execution_count": 36,
   "metadata": {},
   "outputs": [
    {
     "data": {
      "text/plain": [
       "0.4618166096765319"
      ]
     },
     "execution_count": 36,
     "metadata": {},
     "output_type": "execute_result"
    }
   ],
   "source": [
    "#Find percentage of games that blue had more minion kills.\n",
    "percent_blue_minion_kills = minions_killed['blueTotalMinionKills'].sum() / len(minions_killed['blueTotalMinionKills'])\n",
    "percent_blue_minion_kills"
   ]
  },
  {
   "cell_type": "code",
   "execution_count": 38,
   "metadata": {},
   "outputs": [
    {
     "data": {
      "text/plain": [
       "0.5452973312895492"
      ]
     },
     "execution_count": 38,
     "metadata": {},
     "output_type": "execute_result"
    }
   ],
   "source": [
    "#Find percentage of games that red had more minion kills.\n",
    "percent_red_minion_kills= minions_killed['redTotalMinionKills'].sum() / len(minions_killed['redTotalMinionKills'])\n",
    "percent_red_minion_kills"
   ]
  },
  {
   "cell_type": "code",
   "execution_count": 40,
   "metadata": {},
   "outputs": [],
   "source": [
    "total_gold = pd.DataFrame(games, columns = ['blueTotalGold', 'redTotalGold'])\n",
    "\n",
    "for idx, series in total_gold.iterrows():\n",
    "    if series['blueTotalGold'] > series['redTotalGold']:\n",
    "        series.replace(series['blueTotalGold'], value = 1, inplace=True)\n",
    "        series.replace(series['redTotalGold'], value = 0, inplace=True)\n",
    "    else:\n",
    "        series.replace(series['blueTotalGold'], value = 0, inplace=True)\n",
    "        series.replace(series['redTotalGold'], value = 1, inplace=True)"
   ]
  },
  {
   "cell_type": "code",
   "execution_count": 42,
   "metadata": {},
   "outputs": [
    {
     "data": {
      "text/plain": [
       "0.49954800927563575"
      ]
     },
     "execution_count": 42,
     "metadata": {},
     "output_type": "execute_result"
    }
   ],
   "source": [
    "percent_blue_most_gold = total_gold['blueTotalGold'].sum() / len(total_gold['blueTotalGold'])\n",
    "percent_blue_most_gold"
   ]
  },
  {
   "cell_type": "code",
   "execution_count": 44,
   "metadata": {},
   "outputs": [
    {
     "data": {
      "text/plain": [
       "0.5004519907243643"
      ]
     },
     "execution_count": 44,
     "metadata": {},
     "output_type": "execute_result"
    }
   ],
   "source": [
    "percent_red_most_gold = 1 - percent_blue_most_gold\n",
    "percent_red_most_gold"
   ]
  },
  {
   "cell_type": "code",
   "execution_count": 51,
   "metadata": {},
   "outputs": [
    {
     "ename": "TypeError",
     "evalue": "object of type 'numpy.int64' has no len()",
     "output_type": "error",
     "traceback": [
      "\u001b[1;31m---------------------------------------------------------------------------\u001b[0m",
      "\u001b[1;31mTypeError\u001b[0m                                 Traceback (most recent call last)",
      "\u001b[1;32m<ipython-input-51-86a4dae864d1>\u001b[0m in \u001b[0;36m<module>\u001b[1;34m\u001b[0m\n\u001b[0;32m      3\u001b[0m \u001b[1;31m#Plot blue fb win rate vs red fb win rate\u001b[0m\u001b[1;33m\u001b[0m\u001b[1;33m\u001b[0m\u001b[1;33m\u001b[0m\u001b[0m\n\u001b[0;32m      4\u001b[0m \u001b[1;32mfrom\u001b[0m \u001b[0mmatplotlib\u001b[0m\u001b[1;33m.\u001b[0m\u001b[0mticker\u001b[0m \u001b[1;32mimport\u001b[0m \u001b[0mPercentFormatter\u001b[0m\u001b[1;33m\u001b[0m\u001b[1;33m\u001b[0m\u001b[0m\n\u001b[1;32m----> 5\u001b[1;33m \u001b[0mplt\u001b[0m\u001b[1;33m.\u001b[0m\u001b[0mhist\u001b[0m\u001b[1;33m(\u001b[0m\u001b[0mblue_fb_wr\u001b[0m\u001b[1;33m,\u001b[0m \u001b[0mweights\u001b[0m \u001b[1;33m=\u001b[0m \u001b[0mnp\u001b[0m\u001b[1;33m.\u001b[0m\u001b[0mones\u001b[0m\u001b[1;33m(\u001b[0m\u001b[0mlen\u001b[0m\u001b[1;33m(\u001b[0m\u001b[0mblue_fb\u001b[0m\u001b[1;33m)\u001b[0m\u001b[1;33m)\u001b[0m \u001b[1;33m/\u001b[0m \u001b[0mlen\u001b[0m\u001b[1;33m(\u001b[0m\u001b[0mblue_fb\u001b[0m\u001b[1;33m)\u001b[0m\u001b[1;33m)\u001b[0m\u001b[1;33m\u001b[0m\u001b[1;33m\u001b[0m\u001b[0m\n\u001b[0m",
      "\u001b[1;31mTypeError\u001b[0m: object of type 'numpy.int64' has no len()"
     ]
    }
   ],
   "source": [
    "#win_rates = [fb_blue_wr, fb_red_wr, fd_blue_wr, fd_red_wr, ft_blue_wr, ft_red_wr]\n",
    "\n",
    "#Plot blue fb win rate vs red fb win rate\n",
    "from matplotlib.ticker import PercentFormatter\n",
    "plt.hist(blue_fb_wr, weights = np.ones(len(blue_fb)) / len(blue_fb))"
   ]
  },
  {
   "cell_type": "code",
   "execution_count": null,
   "metadata": {},
   "outputs": [],
   "source": []
  }
 ],
 "metadata": {
  "kernelspec": {
   "display_name": "Python 3",
   "language": "python",
   "name": "python3"
  },
  "language_info": {
   "codemirror_mode": {
    "name": "ipython",
    "version": 3
   },
   "file_extension": ".py",
   "mimetype": "text/x-python",
   "name": "python",
   "nbconvert_exporter": "python",
   "pygments_lexer": "ipython3",
   "version": "3.7.6"
  }
 },
 "nbformat": 4,
 "nbformat_minor": 4
}
